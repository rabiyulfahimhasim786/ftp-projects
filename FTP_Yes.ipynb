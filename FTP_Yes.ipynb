{
  "nbformat": 4,
  "nbformat_minor": 0,
  "metadata": {
    "colab": {
      "name": "FTP- Yes.ipynb",
      "provenance": [],
      "collapsed_sections": [],
      "include_colab_link": true
    },
    "kernelspec": {
      "name": "python3",
      "display_name": "Python 3"
    },
    "language_info": {
      "name": "python"
    }
  },
  "cells": [
    {
      "cell_type": "markdown",
      "metadata": {
        "id": "view-in-github",
        "colab_type": "text"
      },
      "source": [
        "<a href=\"https://colab.research.google.com/github/rabiyulfahimhasim786/ftp-projects/blob/main/FTP_Yes.ipynb\" target=\"_parent\"><img src=\"https://colab.research.google.com/assets/colab-badge.svg\" alt=\"Open In Colab\"/></a>"
      ]
    },
    {
      "cell_type": "code",
      "source": [
        "!pip install xlsxwriter"
      ],
      "metadata": {
        "colab": {
          "base_uri": "https://localhost:8080/"
        },
        "id": "2-uBIroabGp5",
        "outputId": "779fcbde-c34c-4a77-d86f-d9edec37be88"
      },
      "execution_count": null,
      "outputs": [
        {
          "output_type": "stream",
          "name": "stdout",
          "text": [
            "Looking in indexes: https://pypi.org/simple, https://us-python.pkg.dev/colab-wheels/public/simple/\n",
            "Collecting xlsxwriter\n",
            "  Downloading XlsxWriter-3.0.3-py3-none-any.whl (149 kB)\n",
            "\u001b[K     |████████████████████████████████| 149 kB 24.8 MB/s \n",
            "\u001b[?25hInstalling collected packages: xlsxwriter\n",
            "Successfully installed xlsxwriter-3.0.3\n"
          ]
        }
      ]
    },
    {
      "cell_type": "code",
      "source": [
        "!pip install --upgrade xlrd"
      ],
      "metadata": {
        "colab": {
          "base_uri": "https://localhost:8080/"
        },
        "id": "2Gmj2PQn7GPm",
        "outputId": "b01019c6-fd6c-44ea-f386-967b2c1a624b"
      },
      "execution_count": null,
      "outputs": [
        {
          "output_type": "stream",
          "name": "stdout",
          "text": [
            "Looking in indexes: https://pypi.org/simple, https://us-python.pkg.dev/colab-wheels/public/simple/\n",
            "Requirement already satisfied: xlrd in /usr/local/lib/python3.7/dist-packages (1.1.0)\n",
            "Collecting xlrd\n",
            "  Downloading xlrd-2.0.1-py2.py3-none-any.whl (96 kB)\n",
            "\u001b[K     |████████████████████████████████| 96 kB 5.7 MB/s \n",
            "\u001b[?25hInstalling collected packages: xlrd\n",
            "  Attempting uninstall: xlrd\n",
            "    Found existing installation: xlrd 1.1.0\n",
            "    Uninstalling xlrd-1.1.0:\n",
            "      Successfully uninstalled xlrd-1.1.0\n",
            "Successfully installed xlrd-2.0.1\n"
          ]
        }
      ]
    },
    {
      "cell_type": "code",
      "source": [
        "import pandas as pd\n",
        "data_xls = pd.read_excel('test.xls', 'Fastener', index_col=None)\n",
        "data_xls.to_csv('test.csv', encoding='utf-8')"
      ],
      "metadata": {
        "id": "nqp8OVqH6ZUV"
      },
      "execution_count": null,
      "outputs": []
    },
    {
      "cell_type": "code",
      "source": [
        "import pandas as pd\n",
        "df = pd.read_excel('test.xlsx', sheet_name=None)\n",
        "df['Store'].to_csv('test.csv')  "
      ],
      "metadata": {
        "id": "5_5CR2fpaw9C"
      },
      "execution_count": null,
      "outputs": []
    },
    {
      "cell_type": "code",
      "source": [
        "import pandas as pd\n",
        "import csv\n",
        "with open('test.csv', encoding='utf-8-sig') as csvfile:\n",
        "    reader = csv.reader(csvfile)\n",
        "    count = 0\n",
        "    CustPO = []\n",
        "    ReleaseNO = []\n",
        "    fsa=[]\n",
        "    qty=[]\n",
        "    Pkginfo=[]\n",
        "    shiptoorg=[]\n",
        "    shiptoloc=[]\n",
        "    for row in reader:\n",
        "        count = count+1\n",
        "        #print(row[2])\n",
        "        fsa.append(row[2])\n",
        "        CustPO.append(row[6])\n",
        "        ReleaseNO.append(row[4])\n",
        "        qty.append(row[9])\n",
        "        Pkginfo.append(row[4])\n",
        "        shiptoorg.append(row[6])\n",
        "        shiptoloc.append(row[9])\n",
        "print(fsa[4:])\n",
        "print(CustPO[1])\n",
        "print(ReleaseNO[2])\n",
        "print(fsa[4:])\n",
        "print(qty[4:])\n",
        "print(Pkginfo[3])\n",
        "print(shiptoorg[3])\n",
        "print(shiptoloc[3])\n",
        "import pandas as pd\n",
        "from datetime import datetime\n",
        "\n",
        "# current dateTime\n",
        "now = datetime.now()\n",
        "\n",
        "# convert to string\n",
        "#date_time_str = now.strftime(\"%Y-%m-%d %H:%M:%S\")\n",
        "date = now.strftime(\"%Y-%b-%d\")\n",
        "date_time_str = now.strftime(\"%Y-%m-%d %H:%M:%S\")\n",
        "\n",
        "print('DateTime String:', date)\n",
        "\n",
        "# dataframe Name and Age columns\n",
        "df = pd.DataFrame({'PO NO': CustPO[1],\n",
        "                   'Release NO': ReleaseNO[2],\n",
        "                   'Line No': fsa[5:],\n",
        "                   'Qty': qty[5:],\n",
        "                   'packing Slip information': Pkginfo[3],\n",
        "                   'SHIP TO ORG ID': shiptoorg[3],\n",
        "                   'SHIP TO LOCATION': shiptoloc[3],\n",
        "                   'Need By Date': date})\n",
        "\n",
        "# Create a Pandas Excel writer using XlsxWriter as the engine.\n",
        "writer = pd.ExcelWriter(\"LI_FTP_Fastener_Sheet1_{}.xlsx\".format(date_time_str), engine='xlsxwriter')\n",
        "\n",
        "# Convert the dataframe to an XlsxWriter Excel object.\n",
        "df.to_excel(writer, sheet_name='Sheet1', index=False)\n",
        "\n",
        "# Close the Pandas Excel writer and output the Excel file.\n",
        "writer.save()"
      ],
      "metadata": {
        "colab": {
          "base_uri": "https://localhost:8080/"
        },
        "id": "KYjFfKclWiQa",
        "outputId": "31d9f7d9-6b7f-4504-e13e-6b21f0de03bc"
      },
      "execution_count": null,
      "outputs": [
        {
          "output_type": "stream",
          "name": "stdout",
          "text": [
            "['Line', '1472', '1491', '1493', '1505', '1517', '131', '295', '326', '370', '426', '428', '429', '492', '521', '526', '587', '588', '7639', '594', '595', '596', '597', '619', '624', '632', '6874', '8891', '7128', '646', '647', '656', '657', '660', '661', '662', '668', '669', '7598', '7320', '671', '692', '694', '696', '698', '701', '704', '705', '710', '714', '715', '716', '718', '723', '725', '726', '727', '728', '739', '741', '761', '7343', '7344', '861', '862', '1077', '2862', '7097', '2945', '5992', '5994', '5995', '5996', '5997', '5999', '6003', '6006', '6008', '6013', '6014', '6015', '6016', '6017', '6020', '6021', '6054', '6055', '6057', '6058', '6059', '6851', '6852', '6070', '6071', '5494', '5498', '5499', '5504', '6892', '6891', '7109', '7519', '7709', '618', '663', '6901', '7976', '6874', '2744', '5985', '224', '622', '7641', '7651', '7350', '7654', '1325', '8420', '1272', '1381', '1383', '1284', '7235', '1399', '1424', '1302', '1360', '620', '1768', '1792', '1301', '1710', '1413', '1713', '961', '1382', '8833', '5998', '1833', '1357', '1277', '1340', '1343', '8891', '8902', '523', '708', '5567', '8992', '2811', '5552', '5553', '5534', '666', '9056', '1396', '1330', '1363', '1791', '1421', '1709', '713']\n",
            "40905\n",
            "200\n",
            "['Line', '1472', '1491', '1493', '1505', '1517', '131', '295', '326', '370', '426', '428', '429', '492', '521', '526', '587', '588', '7639', '594', '595', '596', '597', '619', '624', '632', '6874', '8891', '7128', '646', '647', '656', '657', '660', '661', '662', '668', '669', '7598', '7320', '671', '692', '694', '696', '698', '701', '704', '705', '710', '714', '715', '716', '718', '723', '725', '726', '727', '728', '739', '741', '761', '7343', '7344', '861', '862', '1077', '2862', '7097', '2945', '5992', '5994', '5995', '5996', '5997', '5999', '6003', '6006', '6008', '6013', '6014', '6015', '6016', '6017', '6020', '6021', '6054', '6055', '6057', '6058', '6059', '6851', '6852', '6070', '6071', '5494', '5498', '5499', '5504', '6892', '6891', '7109', '7519', '7709', '618', '663', '6901', '7976', '6874', '2744', '5985', '224', '622', '7641', '7651', '7350', '7654', '1325', '8420', '1272', '1381', '1383', '1284', '7235', '1399', '1424', '1302', '1360', '620', '1768', '1792', '1301', '1710', '1413', '1713', '961', '1382', '8833', '5998', '1833', '1357', '1277', '1340', '1343', '8891', '8902', '523', '708', '5567', '8992', '2811', '5552', '5553', '5534', '666', '9056', '1396', '1330', '1363', '1791', '1421', '1709', '713']\n",
            "['Qty', '1250', '0', '0', '0', '0', '7000', '0', '0', '0', '0', '0', '0', '0', '0', '0', '0', '0', '0', '0', '0', '0', '0', '0', '0', '0', '10000', '6000', '0', '0', '0', '0', '0', '24000', '0', '2000', '1000', '0', '0', '0', '1400', '0', '0', '0', '0', '0', '0', '2500', '0', '0', '0', '0', '0', '0', '0', '0', '0', '0', '0', '0', '0', '0', '0', '1250', '50', '0', '0', '0', '0', '0', '0', '0', '0', '0', '0', '0', '0', '2500', '0', '0', '0', '0', '0', '0', '0', '0', '0', '0', '0', '670', '0', '0', '3000', '0', '0', '0', '0', '0', '0', '0', '0', '0', '0', '0', '0', '0', '0', '0', '0', '0', '0', '0', '0', '0', '0', '0', '0', '0', '0', '0', '0', '0', '0', '0', '0', '0', '0', '0', '0', '0', '0', '0', '0', '0', '0', '0', '0', '0', '0', '0', '0', '0', '0', '0', '0', '0', '0', '0', '0', '0', '0', '0', '0', '0', '0', '0', '0', '0', '0', '0', '0', '0']\n",
            "1212345\n",
            "CRD\n",
            "CSO\n",
            "DateTime String: 2022-Aug-17\n"
          ]
        }
      ]
    },
    {
      "cell_type": "code",
      "source": [
        "import pandas as pd\n",
        "import csv\n",
        "with open('test.csv', encoding='utf-8-sig') as csvfile:\n",
        "    reader = csv.reader(csvfile)\n",
        "    count = 0\n",
        "    CustPO = []\n",
        "    ReleaseNO = []\n",
        "    fsa=[]\n",
        "    qty=[]\n",
        "    Pkginfo=[]\n",
        "    shiptoorg=[]\n",
        "    shiptoloc=[]\n",
        "    for row in reader:\n",
        "        count = count+1\n",
        "        #print(row[2])\n",
        "        fsa.append(row[2])\n",
        "        CustPO.append(row[6])\n",
        "        ReleaseNO.append(row[4])\n",
        "        qty.append(row[9])\n",
        "        Pkginfo.append(row[4])\n",
        "        shiptoorg.append(row[6])\n",
        "        shiptoloc.append(row[9])\n",
        "print(fsa[4:])\n",
        "print(CustPO[1])\n",
        "print(ReleaseNO[2])\n",
        "print(fsa[4:])\n",
        "print(qty[4:])\n",
        "print(Pkginfo[3])\n",
        "print(shiptoorg[3])\n",
        "print(shiptoloc[3])\n",
        "import pandas as pd\n",
        "from datetime import datetime\n",
        "\n",
        "# current dateTime\n",
        "now = datetime.now()\n",
        "\n",
        "# convert to string\n",
        "#date_time_str = now.strftime(\"%Y-%m-%d %H:%M:%S\")\n",
        "date = now.strftime(\"%Y-%b-%d\")\n",
        "date_time_str = now.strftime(\"%Y-%m-%d %H:%M:%S\")\n",
        "\n",
        "print('DateTime String:', date)\n",
        "\n",
        "# dataframe Name and Age columns\n",
        "df = pd.DataFrame({'PO NO': CustPO[1],\n",
        "                   'Release NO': ReleaseNO[2],\n",
        "                   'Line No': fsa[5:],\n",
        "                   'Qty': qty[5:],\n",
        "                   'packing Slip information': Pkginfo[3],\n",
        "                   'SHIP TO ORG ID': shiptoorg[3],\n",
        "                   'SHIP TO LOCATION': shiptoloc[3],\n",
        "                   'Need By Date': date})\n",
        "\n",
        "df.to_csv('sample.csv')\n",
        "\n",
        "df1 = pd.read_csv('sample.csv')\n",
        "newdf = df1[df1['Qty']>0]\n",
        "print(newdf)\n",
        "newdf.to_csv(\"OL_IMPORT_Fastener_Sheet1_{}.csv\".format(date_time_str), index=False)"
      ],
      "metadata": {
        "colab": {
          "base_uri": "https://localhost:8080/"
        },
        "id": "_sh5RYlMdndw",
        "outputId": "d76d766a-7f0e-4805-dc00-597ac79b0268"
      },
      "execution_count": null,
      "outputs": [
        {
          "output_type": "stream",
          "name": "stdout",
          "text": [
            "['Line', '1472', '1491', '1493', '1505', '1517', '131', '295', '326', '370', '426', '428', '429', '492', '521', '526', '587', '588', '7639', '594', '595', '596', '597', '619', '624', '632', '6874', '8891', '7128', '646', '647', '656', '657', '660', '661', '662', '668', '669', '7598', '7320', '671', '692', '694', '696', '698', '701', '704', '705', '710', '714', '715', '716', '718', '723', '725', '726', '727', '728', '739', '741', '761', '7343', '7344', '861', '862', '1077', '2862', '7097', '2945', '5992', '5994', '5995', '5996', '5997', '5999', '6003', '6006', '6008', '6013', '6014', '6015', '6016', '6017', '6020', '6021', '6054', '6055', '6057', '6058', '6059', '6851', '6852', '6070', '6071', '5494', '5498', '5499', '5504', '6892', '6891', '7109', '7519', '7709', '618', '663', '6901', '7976', '6874', '2744', '5985', '224', '622', '7641', '7651', '7350', '7654', '1325', '8420', '1272', '1381', '1383', '1284', '7235', '1399', '1424', '1302', '1360', '620', '1768', '1792', '1301', '1710', '1413', '1713', '961', '1382', '8833', '5998', '1833', '1357', '1277', '1340', '1343', '8891', '8902', '523', '708', '5567', '8992', '2811', '5552', '5553', '5534', '666', '9056', '1396', '1330', '1363', '1791', '1421', '1709', '713']\n",
            "40905\n",
            "200\n",
            "['Line', '1472', '1491', '1493', '1505', '1517', '131', '295', '326', '370', '426', '428', '429', '492', '521', '526', '587', '588', '7639', '594', '595', '596', '597', '619', '624', '632', '6874', '8891', '7128', '646', '647', '656', '657', '660', '661', '662', '668', '669', '7598', '7320', '671', '692', '694', '696', '698', '701', '704', '705', '710', '714', '715', '716', '718', '723', '725', '726', '727', '728', '739', '741', '761', '7343', '7344', '861', '862', '1077', '2862', '7097', '2945', '5992', '5994', '5995', '5996', '5997', '5999', '6003', '6006', '6008', '6013', '6014', '6015', '6016', '6017', '6020', '6021', '6054', '6055', '6057', '6058', '6059', '6851', '6852', '6070', '6071', '5494', '5498', '5499', '5504', '6892', '6891', '7109', '7519', '7709', '618', '663', '6901', '7976', '6874', '2744', '5985', '224', '622', '7641', '7651', '7350', '7654', '1325', '8420', '1272', '1381', '1383', '1284', '7235', '1399', '1424', '1302', '1360', '620', '1768', '1792', '1301', '1710', '1413', '1713', '961', '1382', '8833', '5998', '1833', '1357', '1277', '1340', '1343', '8891', '8902', '523', '708', '5567', '8992', '2811', '5552', '5553', '5534', '666', '9056', '1396', '1330', '1363', '1791', '1421', '1709', '713']\n",
            "['Qty', '1250', '0', '0', '0', '0', '7000', '0', '0', '0', '0', '0', '0', '0', '0', '0', '0', '0', '0', '0', '0', '0', '0', '0', '0', '0', '10000', '6000', '0', '0', '0', '0', '0', '24000', '0', '2000', '1000', '0', '0', '0', '1400', '0', '0', '0', '0', '0', '0', '2500', '0', '0', '0', '0', '0', '0', '0', '0', '0', '0', '0', '0', '0', '0', '0', '1250', '50', '0', '0', '0', '0', '0', '0', '0', '0', '0', '0', '0', '0', '2500', '0', '0', '0', '0', '0', '0', '0', '0', '0', '0', '0', '670', '0', '0', '3000', '0', '0', '0', '0', '0', '0', '0', '0', '0', '0', '0', '0', '0', '0', '0', '0', '0', '0', '0', '0', '0', '0', '0', '0', '0', '0', '0', '0', '0', '0', '0', '0', '0', '0', '0', '0', '0', '0', '0', '0', '0', '0', '0', '0', '0', '0', '0', '0', '0', '0', '0', '0', '0', '0', '0', '0', '0', '0', '0', '0', '0', '0', '0', '0', '0', '0', '0', '0', '0']\n",
            "1212345\n",
            "CRD\n",
            "CSO\n",
            "DateTime String: 2022-Aug-17\n"
          ]
        }
      ]
    }
  ]
}