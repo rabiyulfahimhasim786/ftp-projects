{
  "cells": [
    {
      "cell_type": "markdown",
      "metadata": {
        "id": "view-in-github",
        "colab_type": "text"
      },
      "source": [
        "<a href=\"https://colab.research.google.com/github/rabiyulfahimhasim786/ftp-projects/blob/main/FTP_NO.ipynb\" target=\"_parent\"><img src=\"https://colab.research.google.com/assets/colab-badge.svg\" alt=\"Open In Colab\"/></a>"
      ]
    },
    {
      "cell_type": "code",
      "execution_count": null,
      "metadata": {
        "colab": {
          "base_uri": "https://localhost:8080/"
        },
        "id": "fPkk1lHi1B3M",
        "outputId": "4801bd51-8220-47e7-a462-89f66eb5a529"
      },
      "outputs": [
        {
          "output_type": "stream",
          "name": "stdout",
          "text": [
            "Looking in indexes: https://pypi.org/simple, https://us-python.pkg.dev/colab-wheels/public/simple/\n",
            "Collecting xlsxwriter\n",
            "  Downloading XlsxWriter-3.0.3-py3-none-any.whl (149 kB)\n",
            "\u001b[K     |████████████████████████████████| 149 kB 13.9 MB/s \n",
            "\u001b[?25hInstalling collected packages: xlsxwriter\n",
            "Successfully installed xlsxwriter-3.0.3\n"
          ]
        }
      ],
      "source": [
        "!pip install xlsxwriter"
      ]
    },
    {
      "cell_type": "code",
      "execution_count": null,
      "metadata": {
        "colab": {
          "base_uri": "https://localhost:8080/"
        },
        "id": "ia-FFdSg1HUR",
        "outputId": "34a05012-5ee6-4a7a-aae7-991bf6b6c948"
      },
      "outputs": [
        {
          "output_type": "stream",
          "name": "stdout",
          "text": [
            "Looking in indexes: https://pypi.org/simple, https://us-python.pkg.dev/colab-wheels/public/simple/\n",
            "Requirement already satisfied: xlrd in /usr/local/lib/python3.7/dist-packages (1.1.0)\n",
            "Collecting xlrd\n",
            "  Downloading xlrd-2.0.1-py2.py3-none-any.whl (96 kB)\n",
            "\u001b[K     |████████████████████████████████| 96 kB 4.9 MB/s \n",
            "\u001b[?25hInstalling collected packages: xlrd\n",
            "  Attempting uninstall: xlrd\n",
            "    Found existing installation: xlrd 1.1.0\n",
            "    Uninstalling xlrd-1.1.0:\n",
            "      Successfully uninstalled xlrd-1.1.0\n",
            "Successfully installed xlrd-2.0.1\n"
          ]
        }
      ],
      "source": [
        "!pip install --upgrade xlrd"
      ]
    },
    {
      "cell_type": "code",
      "execution_count": null,
      "metadata": {
        "id": "M9sNmJZJxTrf"
      },
      "outputs": [],
      "source": [
        "import pandas as pd\n",
        "df = pd.read_excel('test.xlsx', sheet_name=None)\n",
        "df['Stride MRO'].to_csv('testing.csv') "
      ]
    },
    {
      "cell_type": "code",
      "execution_count": null,
      "metadata": {
        "id": "EFvRY4ET04t0"
      },
      "outputs": [],
      "source": [
        "import pandas as pd\n",
        "df = pd.read_excel('output.xlsx', sheet_name=None)\n",
        "df['Sheet1'].to_csv('output.csv')  "
      ]
    },
    {
      "cell_type": "code",
      "execution_count": null,
      "metadata": {
        "colab": {
          "base_uri": "https://localhost:8080/"
        },
        "id": "bTT1Kibxzbp_",
        "outputId": "ccfc6fd6-316a-4902-f84d-12c1e97f92e7"
      },
      "outputs": [
        {
          "output_type": "stream",
          "name": "stdout",
          "text": [
            "['Tax', 'Y', 'Y', 'Y', 'Y', 'Y', 'Y', 'Y', 'Y', 'Y', 'Y', 'Y', 'Y', 'Y', 'Y', 'Y', 'Y', 'Y', 'Y', 'Y', 'Y', 'Y', 'Y', 'Y', 'Y', 'Y', 'Y', 'Y', 'Y', 'Y', 'Y', 'Y', 'Y', 'Y', 'Y', 'Y', 'Y', 'Y', 'Y', 'Y', 'Y', 'Y', 'Y', 'Y', 'Y', 'Y', 'Y', 'Y', 'Y', 'Y', 'Y', 'Y']\n",
            "416\n",
            "105586\n",
            "WDS\n",
            "200\n",
            "65375-PP\n",
            "SPENCERD\n",
            "N\n",
            "105022\n",
            "65375\n"
          ]
        }
      ],
      "source": [
        "# importing the pandas library\n",
        "import pandas as pd\n",
        "# FTP - N codes,\n",
        "#import pandas as pd\n",
        "import csv\n",
        "with open('testing.csv', encoding='utf-8-sig') as csvfile:\n",
        "    reader = csv.reader(csvfile)\n",
        "    count = 0\n",
        "    imsetno = []\n",
        "    custid = []\n",
        "    fsa=[]\n",
        "    coid =[]\n",
        "    Salesloc =[]\n",
        "    custpo =[]\n",
        "    taker =[]\n",
        "    approved = []\n",
        "    shipto = []\n",
        "    contract = []\n",
        "    \n",
        "    for row in reader:\n",
        "        count = count+1\n",
        "        #print(row[2])\n",
        "        fsa.append(row[1])\n",
        "        imsetno.append(row[4])\n",
        "        custid.append(row[2])\n",
        "        coid.append(row[2])\n",
        "        Salesloc.append(row[4])\n",
        "        custpo.append(row[6])\n",
        "        taker.append(row[6])\n",
        "        approved.append(row[4])\n",
        "        shipto.append(row[2])\n",
        "        contract.append(row[6])\n",
        "print(fsa[4:])\n",
        "print(imsetno[2])\n",
        "print(custid[0])\n",
        "print(coid[2])\n",
        "print(Salesloc[0])\n",
        "print(custpo[1])\n",
        "print(taker[2])\n",
        "print(approved[1])\n",
        "print(shipto[1])\n",
        "print(contract[0])\n",
        "\n",
        "# importing the pandas library\n",
        "#import pandas as pd\n",
        "\n",
        "from datetime import datetime\n",
        "\n",
        "# current dateTime\n",
        "now = datetime.now()\n",
        "\n",
        "# convert to string\n",
        "#date_time_str = now.strftime(\"%Y-%m-%d %H:%M:%S\")\n",
        "date = now.strftime(\"%Y-%b-%d\")\n",
        "date_time_str = now.strftime(\"%Y-%m-%d %H:%M:%S\")\n",
        "\n",
        "# reading the csv file\n",
        "df = pd.read_csv(\"output.csv\")\n",
        "#print(df)\n",
        "# updating the column value/data\n",
        "df.loc[0, 'Import Set No'] = imsetno[2]\n",
        "df.loc[0, 'Customer ID'] = custid[0]\n",
        "df.loc[0, 'Company ID'] = coid[2]\n",
        "df.loc[0, 'Sales Location ID'] = Salesloc[0]\n",
        "df.loc[0, 'Customer PO Number'] = custpo[1]\n",
        "df.loc[0, 'Taker'] = taker[2]\n",
        "df.loc[0, 'Approved'] = approved[1]\n",
        "df.loc[0, 'Ship To ID'] = shipto[1]\n",
        "df.loc[0, 'Contract Number'] = contract[0]\n",
        "#df.loc[3, 'Company ID'] = \n",
        "#df.loc[3, 'Company ID'] = \n",
        "#df.loc[3, 'Customer ID'] = ''\n",
        "# writing into the file\n",
        "#df.to_csv(\"output.csv\", index=False)\n",
        "datas = df.replace(to_replace = ['Y','N'],value = ['Y - Yes ','N - No'])\n",
        "\n",
        "#datas.to_csv(\"output.csv\", index=False)\n",
        "datas.to_csv(\"OH_IMPORT_CRIB_Sheet1_{}.csv\".format(date_time_str), index=False)\n",
        "\n",
        "#sprint(df)\n",
        "#https://www.geeksforgeeks.org/update-column-value-of-csv-in-python/\n",
        "#https://stackoverflow.com/questions/40901770/is-there-a-simple-way-to-change-a-column-of-yes-no-to-1-0-in-a-pandas-dataframe"
      ]
    }
  ],
  "metadata": {
    "colab": {
      "collapsed_sections": [],
      "name": "FTP - NO.ipynb",
      "provenance": [],
      "include_colab_link": true
    },
    "kernelspec": {
      "display_name": "Python 3",
      "name": "python3"
    },
    "language_info": {
      "name": "python"
    }
  },
  "nbformat": 4,
  "nbformat_minor": 0
}