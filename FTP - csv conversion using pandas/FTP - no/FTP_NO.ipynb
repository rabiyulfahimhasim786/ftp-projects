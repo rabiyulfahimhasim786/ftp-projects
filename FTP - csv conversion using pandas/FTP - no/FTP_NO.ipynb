{
  "cells": [
    {
      "cell_type": "code",
      "execution_count": null,
      "metadata": {
        "colab": {
          "base_uri": "https://localhost:8080/"
        },
        "id": "fPkk1lHi1B3M",
        "outputId": "68daf8d4-72fb-4dbd-f183-36b8f901643e"
      },
      "outputs": [
        {
          "output_type": "stream",
          "name": "stdout",
          "text": [
            "Looking in indexes: https://pypi.org/simple, https://us-python.pkg.dev/colab-wheels/public/simple/\n",
            "Requirement already satisfied: xlsxwriter in /usr/local/lib/python3.7/dist-packages (3.0.3)\n"
          ]
        }
      ],
      "source": [
        "!pip install xlsxwriter"
      ]
    },
    {
      "cell_type": "code",
      "execution_count": null,
      "metadata": {
        "colab": {
          "base_uri": "https://localhost:8080/"
        },
        "id": "ia-FFdSg1HUR",
        "outputId": "a76efa8d-4e81-467a-d056-8670eb077795"
      },
      "outputs": [
        {
          "output_type": "stream",
          "name": "stdout",
          "text": [
            "Looking in indexes: https://pypi.org/simple, https://us-python.pkg.dev/colab-wheels/public/simple/\n",
            "Requirement already satisfied: xlrd in /usr/local/lib/python3.7/dist-packages (2.0.1)\n"
          ]
        }
      ],
      "source": [
        "!pip install --upgrade xlrd"
      ]
    },
    {
      "cell_type": "code",
      "execution_count": null,
      "metadata": {
        "id": "M9sNmJZJxTrf"
      },
      "outputs": [],
      "source": [
        "import pandas as pd\n",
        "df = pd.read_excel('test.xls', sheet_name=None)\n",
        "df['CRIB'].to_csv('testing.csv') "
      ]
    },
    {
      "cell_type": "code",
      "execution_count": null,
      "metadata": {
        "id": "EFvRY4ET04t0"
      },
      "outputs": [],
      "source": [
        "import pandas as pd\n",
        "df = pd.read_excel('output.xlsx', sheet_name=None)\n",
        "df['Sheet1'].to_csv('output.csv')  "
      ]
    },
    {
      "cell_type": "code",
      "execution_count": null,
      "metadata": {
        "colab": {
          "base_uri": "https://localhost:8080/"
        },
        "id": "bTT1Kibxzbp_",
        "outputId": "a6b4fad3-0dba-4a13-9fb8-1fa1432fe6a4"
      },
      "outputs": [
        {
          "output_type": "stream",
          "name": "stdout",
          "text": [
            "['Tax', 'Y', 'Y', 'Y', 'Y', 'Y', 'Y', 'Y', 'Y', 'Y', 'Y', 'Y', 'Y', 'Y', 'Y', 'Y', 'Y', 'Y', 'Y', 'Y', 'Y', 'Y', 'Y', 'Y', 'Y', 'Y', 'Y', 'Y', 'Y', 'Y', 'Y', 'Y', 'Y', 'Y', 'Y', 'Y', 'Y', 'Y', 'Y', 'Y', 'Y', 'Y', 'Y', 'Y', 'Y', 'Y', 'Y', 'Y', 'Y', 'Y', 'Y', 'Y', 'Y', 'Y', 'Y', 'Y', 'Y', 'Y', 'Y', 'Y', 'Y', 'Y', 'Y', 'Y', 'Y', 'Y', 'Y', 'Y', 'Y', 'Y', 'Y', 'Y', 'Y', 'Y', 'Y', 'Y', 'Y', 'Y', 'Y', 'Y', 'Y', 'Y', 'Y', 'Y', 'Y', 'Y', 'Y', 'Y', 'Y', 'Y', 'Y', 'Y', 'Y', 'Y', 'Y', 'Y', 'Y', 'Y', 'Y', 'Y', 'Y', 'Y', 'Y', 'Y', 'Y', 'Y', 'Y', 'Y', 'Y', 'Y', 'Y', 'Y', 'Y', 'Y', 'Y', 'Y', 'Y', 'Y', 'Y', 'Y', 'Y', 'Y', 'Y', 'Y', 'Y', 'Y', 'Y', 'Y', 'Y', 'Y', 'Y', 'Y', 'Y', 'Y', 'Y', 'Y', 'Y', 'Y', 'Y', 'Y', 'Y', 'Y', 'Y', 'Y', 'Y', 'Y', 'Y', 'Y', 'Y', 'Y', 'Y', 'Y', 'Y', 'Y', 'Y', 'Y', 'Y', 'Y', 'Y', 'Y', 'Y', 'Y', 'Y', 'Y', 'Y', 'Y', 'Y', 'Y', 'Y']\n",
            "11223\n",
            "105586\n",
            "WDS\n",
            "200\n",
            "65375-CRIB\n",
            "SPENCERD\n",
            "N\n",
            "105586\n",
            "65375\n"
          ]
        }
      ],
      "source": [
        "# importing the pandas library\n",
        "import pandas as pd\n",
        "# FTP - N codes,\n",
        "#import pandas as pd\n",
        "import csv\n",
        "with open('testing.csv', encoding='utf-8-sig') as csvfile:\n",
        "    reader = csv.reader(csvfile)\n",
        "    count = 0\n",
        "    imsetno = []\n",
        "    custid = []\n",
        "    fsa=[]\n",
        "    coid =[]\n",
        "    Salesloc =[]\n",
        "    custpo =[]\n",
        "    taker =[]\n",
        "    approved = []\n",
        "    shipto = []\n",
        "    contract = []\n",
        "    \n",
        "    for row in reader:\n",
        "        count = count+1\n",
        "        #print(row[2])\n",
        "        fsa.append(row[1])\n",
        "        imsetno.append(row[4])\n",
        "        custid.append(row[2])\n",
        "        coid.append(row[2])\n",
        "        Salesloc.append(row[4])\n",
        "        custpo.append(row[6])\n",
        "        taker.append(row[6])\n",
        "        approved.append(row[4])\n",
        "        shipto.append(row[2])\n",
        "        contract.append(row[6])\n",
        "print(fsa[4:])\n",
        "print(imsetno[2])\n",
        "print(custid[0])\n",
        "print(coid[2])\n",
        "print(Salesloc[0])\n",
        "print(custpo[1])\n",
        "print(taker[2])\n",
        "print(approved[1])\n",
        "print(shipto[1])\n",
        "print(contract[0])\n",
        "\n",
        "# importing the pandas library\n",
        "#import pandas as pd\n",
        "\n",
        "from datetime import datetime\n",
        "\n",
        "# current dateTime\n",
        "now = datetime.now()\n",
        "\n",
        "# convert to string\n",
        "#date_time_str = now.strftime(\"%Y-%m-%d %H:%M:%S\")\n",
        "date = now.strftime(\"%Y-%b-%d\")\n",
        "date_time_str = now.strftime(\"%Y-%m-%d %H:%M:%S\")\n",
        "\n",
        "# reading the csv file\n",
        "df = pd.read_csv(\"output.csv\")\n",
        "#print(df)\n",
        "# updating the column value/data\n",
        "df.loc[3, 'Import Set No'] = imsetno[2]\n",
        "df.loc[3, 'Customer ID'] = custid[0]\n",
        "df.loc[3, 'Company ID'] = coid[2]\n",
        "df.loc[3, 'Sales Location ID'] = Salesloc[0]\n",
        "df.loc[3, 'Customer PO Number'] = custpo[1]\n",
        "df.loc[3, 'Taker'] = taker[2]\n",
        "df.loc[3, 'Approved'] = approved[1]\n",
        "df.loc[3, 'Ship To ID'] = shipto[1]\n",
        "df.loc[3, 'Contract Number'] = contract[0]\n",
        "#df.loc[3, 'Company ID'] = \n",
        "#df.loc[3, 'Company ID'] = \n",
        "#df.loc[3, 'Customer ID'] = ''\n",
        "# writing into the file\n",
        "#df.to_csv(\"output.csv\", index=False)\n",
        "datas = df.replace(to_replace = ['Y','N'],value = ['Y - Yes ','N - No'])\n",
        "\n",
        "#datas.to_csv(\"output.csv\", index=False)\n",
        "datas.to_csv(\"OH_IMPORT_CRIB_Sheet1_{}.csv\".format(date_time_str), index=False)\n",
        "\n",
        "#sprint(df)\n",
        "#https://www.geeksforgeeks.org/update-column-value-of-csv-in-python/\n",
        "#https://stackoverflow.com/questions/40901770/is-there-a-simple-way-to-change-a-column-of-yes-no-to-1-0-in-a-pandas-dataframe"
      ]
    }
  ],
  "metadata": {
    "colab": {
      "collapsed_sections": [],
      "name": "FTP - NO.ipynb",
      "provenance": []
    },
    "kernelspec": {
      "display_name": "Python 3",
      "name": "python3"
    },
    "language_info": {
      "name": "python"
    }
  },
  "nbformat": 4,
  "nbformat_minor": 0
}